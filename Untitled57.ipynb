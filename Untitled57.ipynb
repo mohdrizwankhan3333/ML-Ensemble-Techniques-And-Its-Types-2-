{
 "cells": [
  {
   "cell_type": "markdown",
   "id": "0fbedeec-831a-4bab-9eff-0594a4094136",
   "metadata": {},
   "source": [
    "Q1. How does bagging reduce overfitting in decision trees?\n",
    "\n",
    "Bagging reduces overfitting by training multiple decision trees on different bootstrapped samples and averaging their predictions, thereby smoothing out anomalies and reducing model variance.\n",
    "\n",
    "Q2. What are the advantages and disadvantages of using different types of base learners in bagging?\n",
    "\n",
    "Advantages: Diverse base learners can capture different patterns and improve ensemble robustness.  \n",
    "Disadvantages: Inconsistent base learners may increase computational complexity and make the ensemble harder to interpret.\n",
    "\n",
    "Q3. How does the choice of base learner affect the bias-variance tradeoff in bagging?\n",
    "\n",
    "High-variance base learners (e.g., deep trees) benefit most from bagging, reducing variance without greatly increasing bias. Low-variance learners (e.g., linear models) gain less from bagging.\n",
    "\n",
    "Q4. Can bagging be used for both classification and regression tasks? How does it differ in each case?\n",
    "\n",
    "Yes, bagging can be used for both. In classification, it uses majority voting to combine predictions; in regression, it averages the predictions of base models.\n",
    "\n",
    "Q5. What is the role of ensemble size in bagging? How many models should be included in the ensemble?\n",
    "\n",
    "Larger ensembles generally provide better performance by further reducing variance. The optimal number depends on the dataset and computational resources but often ranges from 50 to 500 models.\n",
    "\n",
    "Q6. Can you provide an example of a real-world application of bagging in machine learning?\n",
    "\n",
    "Bagging is used in financial forecasting to predict stock prices. Multiple models trained on different subsets of historical data reduce prediction variance and improve accuracy."
   ]
  }
 ],
 "metadata": {
  "kernelspec": {
   "display_name": "Python 3 (ipykernel)",
   "language": "python",
   "name": "python3"
  },
  "language_info": {
   "codemirror_mode": {
    "name": "ipython",
    "version": 3
   },
   "file_extension": ".py",
   "mimetype": "text/x-python",
   "name": "python",
   "nbconvert_exporter": "python",
   "pygments_lexer": "ipython3",
   "version": "3.10.8"
  }
 },
 "nbformat": 4,
 "nbformat_minor": 5
}
